{
  "cells": [
    {
      "cell_type": "markdown",
      "id": "ec6e7d18-6a6e-4a51-a7cd-0a1152604973",
      "metadata": {
        "id": "ec6e7d18-6a6e-4a51-a7cd-0a1152604973"
      },
      "source": [
        "## Лабораторная работа №1 | Вариант 2"
      ]
    },
    {
      "cell_type": "markdown",
      "source": [],
      "metadata": {
        "id": "Y2QO9lDodiLd"
      },
      "id": "Y2QO9lDodiLd"
    },
    {
      "cell_type": "markdown",
      "id": "277877ce-f982-4711-a6a6-2a4a90871409",
      "metadata": {
        "id": "277877ce-f982-4711-a6a6-2a4a90871409"
      },
      "source": [
        "Выполнил:"
      ]
    },
    {
      "cell_type": "markdown",
      "id": "031f025d-84dc-470f-b839-456a76d9636b",
      "metadata": {
        "id": "031f025d-84dc-470f-b839-456a76d9636b"
      },
      "source": [
        "### 1. Numpy"
      ]
    },
    {
      "cell_type": "code",
      "execution_count": 2,
      "id": "8a2c6f8d-e85b-4982-ba6d-77ffdb7d53e8",
      "metadata": {
        "id": "8a2c6f8d-e85b-4982-ba6d-77ffdb7d53e8"
      },
      "outputs": [],
      "source": [
        "import numpy as np"
      ]
    },
    {
      "cell_type": "markdown",
      "id": "6ff3559d-5f3e-4540-9a31-bfb9f42a23da",
      "metadata": {
        "id": "6ff3559d-5f3e-4540-9a31-bfb9f42a23da"
      },
      "source": [
        "1. Создайте матрицу размером 8х8 и заполните ее шахматным рисунком"
      ]
    },
    {
      "cell_type": "code",
      "execution_count": null,
      "id": "752bc586-1e3f-4085-85c3-4068b781314f",
      "metadata": {
        "colab": {
          "base_uri": "https://localhost:8080/"
        },
        "id": "752bc586-1e3f-4085-85c3-4068b781314f",
        "outputId": "7d3cab6c-57d6-49d0-f842-0c226345c288"
      },
      "outputs": [
        {
          "output_type": "stream",
          "name": "stdout",
          "text": [
            "[[0 1 0 1 0 1 0 1]\n",
            " [1 0 1 0 1 0 1 0]\n",
            " [0 1 0 1 0 1 0 1]\n",
            " [1 0 1 0 1 0 1 0]\n",
            " [0 1 0 1 0 1 0 1]\n",
            " [1 0 1 0 1 0 1 0]\n",
            " [0 1 0 1 0 1 0 1]\n",
            " [1 0 1 0 1 0 1 0]]\n"
          ]
        }
      ],
      "source": [
        "chessboard = np.zeros((8, 8), dtype=int)\n",
        "\n",
        "# 1 для черных клеток и 0 для белых\n",
        "chessboard[1::2, ::2] = 1\n",
        "chessboard[::2, 1::2] = 1\n",
        "\n",
        "print(chessboard)"
      ]
    },
    {
      "cell_type": "markdown",
      "id": "0243a0f6-1905-4e2d-9572-9ba49dc003a8",
      "metadata": {
        "id": "0243a0f6-1905-4e2d-9572-9ba49dc003a8"
      },
      "source": [
        "2. Каков результат выполнения следующих выражений?\n",
        "\n",
        "```python\n",
        "np.array(0) / np.array(0)\n",
        "np.array(0) // np.array(0)\n",
        "np.array([np.nan]).astype(int).astype(float)\n",
        "```"
      ]
    },
    {
      "cell_type": "code",
      "execution_count": null,
      "id": "ec6ae581-5adf-459c-bdc7-8b015d9529f6",
      "metadata": {
        "id": "ec6ae581-5adf-459c-bdc7-8b015d9529f6"
      },
      "outputs": [],
      "source": [
        "np.array(0) / np.array(0) # Поэлеметно будет совершена попытка поделить 0 на 0, в результате RuntimeWarming и результат NaN\n",
        "np.array(0) // np.array(0) # Тут похоже на прошлый, но деление целочисленное -> результат должен быть целым числом. Во время исполнения почему то происходит RuntimeWarming и результат 0,\n",
        "#видимо numpy что то меняет, т.к. в обычном питоне было бы в обоих случаях ZeroDivisionError\n",
        "\n",
        "np.array([np.nan]).astype(int).astype(float) #преобразует NaN в int, а затем во float. При выводе будет [-9.22337204e+18]"
      ]
    },
    {
      "cell_type": "markdown",
      "id": "8c7d3811-a555-4c02-ada8-e4a70b9dee46",
      "metadata": {
        "id": "8c7d3811-a555-4c02-ada8-e4a70b9dee46"
      },
      "source": [
        "3. Создайте матрицу-шахматную доску 8х8 используя функцию `tile`"
      ]
    },
    {
      "cell_type": "code",
      "execution_count": 3,
      "id": "12d0ed34-908c-4840-8b81-457e64dd7b0b",
      "metadata": {
        "colab": {
          "base_uri": "https://localhost:8080/"
        },
        "id": "12d0ed34-908c-4840-8b81-457e64dd7b0b",
        "outputId": "b975f463-165a-496f-f9a3-ac0cab460e2e"
      },
      "outputs": [
        {
          "output_type": "stream",
          "name": "stdout",
          "text": [
            "[[0 1]\n",
            " [1 0]]\n",
            "[[0 1 0 1 0 1 0 1]\n",
            " [1 0 1 0 1 0 1 0]\n",
            " [0 1 0 1 0 1 0 1]\n",
            " [1 0 1 0 1 0 1 0]\n",
            " [0 1 0 1 0 1 0 1]\n",
            " [1 0 1 0 1 0 1 0]\n",
            " [0 1 0 1 0 1 0 1]\n",
            " [1 0 1 0 1 0 1 0]]\n"
          ]
        }
      ],
      "source": [
        "pattern = np.array([[0, 1], [1, 0]])\n",
        "chessboard = np.tile(pattern, (4, 4))\n",
        "print(pattern)\n",
        "print(chessboard)"
      ]
    },
    {
      "cell_type": "markdown",
      "id": "b7ca56e6-a194-4c42-b8a2-307fcf40f648",
      "metadata": {
        "id": "b7ca56e6-a194-4c42-b8a2-307fcf40f648"
      },
      "source": [
        "4. Как округлить до целых массив чисел с плавающей точкой?"
      ]
    },
    {
      "cell_type": "code",
      "execution_count": null,
      "id": "1b1d64cd-0e28-400f-8d49-a1274947e150",
      "metadata": {
        "colab": {
          "base_uri": "https://localhost:8080/"
        },
        "id": "1b1d64cd-0e28-400f-8d49-a1274947e150",
        "outputId": "6f470ab3-99c0-4204-92e7-bedebae3d4c1"
      },
      "outputs": [
        {
          "output_type": "stream",
          "name": "stdout",
          "text": [
            "[[0 1]\n",
            " [1 0]]\n"
          ]
        }
      ],
      "source": [
        "np.round(pattern)\n",
        "print(pattern)"
      ]
    },
    {
      "cell_type": "markdown",
      "id": "b3b2cd1e-e996-45e0-b9ed-e12ce653a9c3",
      "metadata": {
        "id": "b3b2cd1e-e996-45e0-b9ed-e12ce653a9c3"
      },
      "source": [
        "5. Как найти общие значения между двумя массивами?"
      ]
    },
    {
      "cell_type": "code",
      "execution_count": null,
      "id": "c40ef785-d750-42ba-ac6e-b777866202a6",
      "metadata": {
        "colab": {
          "base_uri": "https://localhost:8080/"
        },
        "id": "c40ef785-d750-42ba-ac6e-b777866202a6",
        "outputId": "f614dd84-4e82-49fb-c4bb-a4ce07dd7331"
      },
      "outputs": [
        {
          "output_type": "stream",
          "name": "stdout",
          "text": [
            "[3 4]\n"
          ]
        }
      ],
      "source": [
        "#не совсем понятно что значит общие значения, пусть эту задачу нужно решить средствами numpy и общее значение это то, которые содержится в обоих массивах, но не обязательно на одних и тех же позициях\n",
        "a = np.array([1, 2, 3, 4])\n",
        "b = np.array([3, 4, 5, 6])\n",
        "print(a[np.in1d(a,b)])"
      ]
    },
    {
      "cell_type": "markdown",
      "id": "8108b3a8-5ba8-472d-ad6b-095ade8678ef",
      "metadata": {
        "id": "8108b3a8-5ba8-472d-ad6b-095ade8678ef"
      },
      "source": [
        "6. Как вычислить ((A+B)*(-A/2)) на месте (без копирования)?"
      ]
    },
    {
      "cell_type": "code",
      "execution_count": null,
      "id": "89b58c0a-bd5d-435a-be45-719fdfce662a",
      "metadata": {
        "id": "89b58c0a-bd5d-435a-be45-719fdfce662a"
      },
      "outputs": [],
      "source": [
        "B += A\n",
        "B *= (-A/2)"
      ]
    },
    {
      "cell_type": "markdown",
      "id": "98511652-db85-4506-a5b8-f94b05d35ce9",
      "metadata": {
        "id": "98511652-db85-4506-a5b8-f94b05d35ce9"
      },
      "source": [
        "7. Рассмотрим случайный вектор с формой 100х2, представляющей координаты, и найдем расстояния от точки к точке"
      ]
    },
    {
      "cell_type": "code",
      "execution_count": null,
      "id": "ca72cdb0-ed24-460d-81a9-220b850d62c3",
      "metadata": {
        "id": "ca72cdb0-ed24-460d-81a9-220b850d62c3",
        "colab": {
          "base_uri": "https://localhost:8080/"
        },
        "outputId": "24d57d7b-b3ab-4691-ef52-ba8b72934106"
      },
      "outputs": [
        {
          "output_type": "execute_result",
          "data": {
            "text/plain": [
              "array([[0.        , 0.50523719, 0.59418062, ..., 0.3496529 , 0.52804544,\n",
              "        0.46455736],\n",
              "       [0.50523719, 0.        , 0.40408612, ..., 0.18910548, 0.73293555,\n",
              "        0.23153395],\n",
              "       [0.59418062, 0.40408612, 0.        , ..., 0.32656845, 0.46191441,\n",
              "        0.61189154],\n",
              "       ...,\n",
              "       [0.3496529 , 0.18910548, 0.32656845, ..., 0.        , 0.556329  ,\n",
              "        0.3102996 ],\n",
              "       [0.52804544, 0.73293555, 0.46191441, ..., 0.556329  , 0.        ,\n",
              "        0.84942367],\n",
              "       [0.46455736, 0.23153395, 0.61189154, ..., 0.3102996 , 0.84942367,\n",
              "        0.        ]])"
            ]
          },
          "metadata": {},
          "execution_count": 5
        }
      ],
      "source": [
        "coordinates = np.random.random((100, 2))\n",
        "distances = np.sqrt(np.sum((coordinates[:, np.newaxis] - coordinates[np.newaxis, :]) ** 2, axis=-1))\n",
        "\n",
        "i, j = np.triu_indices(len(coordinates), k=1)\n",
        "distances"
      ]
    },
    {
      "cell_type": "markdown",
      "id": "1412a70a-2a1e-406e-a227-afc9a47ed659",
      "metadata": {
        "id": "1412a70a-2a1e-406e-a227-afc9a47ed659"
      },
      "source": [
        "8. Как конвертировать массив float(32 bit) к массиву целых чисел (integer 32 bit) in place?"
      ]
    },
    {
      "cell_type": "code",
      "execution_count": null,
      "id": "22bb8bbf-52dd-4d3c-86c0-c4e9637b909b",
      "metadata": {
        "id": "22bb8bbf-52dd-4d3c-86c0-c4e9637b909b"
      },
      "outputs": [],
      "source": [
        "arr = np.array([1.1], dtype=np.float32)\n",
        "arr = arr.astype(np.int32, copy=False)"
      ]
    },
    {
      "cell_type": "markdown",
      "id": "f7dc66bf-f7c8-4d78-834b-451651f6839a",
      "metadata": {
        "id": "f7dc66bf-f7c8-4d78-834b-451651f6839a"
      },
      "source": [
        "9. Создайте структурированный массив, представляющий позицию (x, y) и цвет (r, g, b)."
      ]
    },
    {
      "cell_type": "code",
      "execution_count": null,
      "id": "0ecf5586-d30e-4256-ab93-7ff9bab0b34b",
      "metadata": {
        "id": "0ecf5586-d30e-4256-ab93-7ff9bab0b34b"
      },
      "outputs": [],
      "source": [
        "struct = [('position', int, 2), ('color', int, 3)]\n",
        "array = np.zeros(1, dtype=struct)"
      ]
    },
    {
      "cell_type": "markdown",
      "id": "a66194f1-0099-4808-8ebf-5cf10eee5071",
      "metadata": {
        "id": "a66194f1-0099-4808-8ebf-5cf10eee5071"
      },
      "source": [
        "10. Какой эквивалент enumerate для numpy массивов?"
      ]
    },
    {
      "cell_type": "code",
      "execution_count": 5,
      "id": "07ed452c-3f7c-40a7-a5b5-716602a5eed9",
      "metadata": {
        "colab": {
          "base_uri": "https://localhost:8080/"
        },
        "id": "07ed452c-3f7c-40a7-a5b5-716602a5eed9",
        "outputId": "2f83cbd7-bf4b-4127-ca05-d0d2054ed83b"
      },
      "outputs": [
        {
          "output_type": "stream",
          "name": "stdout",
          "text": [
            "((0, 0), 0)\n",
            "((0, 1), 1)\n",
            "((0, 2), 0)\n",
            "((0, 3), 1)\n",
            "((0, 4), 0)\n",
            "((0, 5), 1)\n",
            "((0, 6), 0)\n",
            "((0, 7), 1)\n",
            "((1, 0), 1)\n",
            "((1, 1), 0)\n",
            "((1, 2), 1)\n",
            "((1, 3), 0)\n",
            "((1, 4), 1)\n",
            "((1, 5), 0)\n",
            "((1, 6), 1)\n",
            "((1, 7), 0)\n",
            "((2, 0), 0)\n",
            "((2, 1), 1)\n",
            "((2, 2), 0)\n",
            "((2, 3), 1)\n",
            "((2, 4), 0)\n",
            "((2, 5), 1)\n",
            "((2, 6), 0)\n",
            "((2, 7), 1)\n",
            "((3, 0), 1)\n",
            "((3, 1), 0)\n",
            "((3, 2), 1)\n",
            "((3, 3), 0)\n",
            "((3, 4), 1)\n",
            "((3, 5), 0)\n",
            "((3, 6), 1)\n",
            "((3, 7), 0)\n",
            "((4, 0), 0)\n",
            "((4, 1), 1)\n",
            "((4, 2), 0)\n",
            "((4, 3), 1)\n",
            "((4, 4), 0)\n",
            "((4, 5), 1)\n",
            "((4, 6), 0)\n",
            "((4, 7), 1)\n",
            "((5, 0), 1)\n",
            "((5, 1), 0)\n",
            "((5, 2), 1)\n",
            "((5, 3), 0)\n",
            "((5, 4), 1)\n",
            "((5, 5), 0)\n",
            "((5, 6), 1)\n",
            "((5, 7), 0)\n",
            "((6, 0), 0)\n",
            "((6, 1), 1)\n",
            "((6, 2), 0)\n",
            "((6, 3), 1)\n",
            "((6, 4), 0)\n",
            "((6, 5), 1)\n",
            "((6, 6), 0)\n",
            "((6, 7), 1)\n",
            "((7, 0), 1)\n",
            "((7, 1), 0)\n",
            "((7, 2), 1)\n",
            "((7, 3), 0)\n",
            "((7, 4), 1)\n",
            "((7, 5), 0)\n",
            "((7, 6), 1)\n",
            "((7, 7), 0)\n"
          ]
        }
      ],
      "source": [
        "for elem in np.ndenumerate(chessboard):\n",
        "  print(elem)"
      ]
    },
    {
      "cell_type": "markdown",
      "id": "5bd0f757-bb01-4afb-b4f0-6821b5c5b2b7",
      "metadata": {
        "id": "5bd0f757-bb01-4afb-b4f0-6821b5c5b2b7"
      },
      "source": [
        "### 2. Pandas"
      ]
    },
    {
      "cell_type": "markdown",
      "id": "bdffd013-e573-4318-8062-65ae1c5e07e8",
      "metadata": {
        "id": "bdffd013-e573-4318-8062-65ae1c5e07e8"
      },
      "source": [
        "Найдите ответы на вопросы или выполните действия с предложенным датасетом\n",
        "\n",
        "Данные о преступлениях, совершенных женщинами в Индии, с демографическими подробностями.\n",
        "\n",
        "Файл: `CrimesOnWomenData.csv`\n",
        "\n",
        "```\n",
        "State - название штата/региона\n",
        "Year - год записи\n",
        "Rape - случаи изнасилования\n",
        "K&A - случаи похищения\n",
        "DD - смерти из-за приданого\n",
        "AoW - нападение на женщин\n",
        "AoM - нападение на женскую скромность(modestity)\n",
        "DV - бытовое насилие\n",
        "WT - торговля женщинами\n",
        "```"
      ]
    },
    {
      "cell_type": "code",
      "execution_count": 6,
      "id": "0778ec2b-a7b2-4738-b771-bb1781986f62",
      "metadata": {
        "id": "0778ec2b-a7b2-4738-b771-bb1781986f62"
      },
      "outputs": [],
      "source": [
        "import pandas as pd"
      ]
    },
    {
      "cell_type": "code",
      "execution_count": 7,
      "id": "bfc45614-d44b-49bd-a55c-c410a95a808f",
      "metadata": {
        "id": "bfc45614-d44b-49bd-a55c-c410a95a808f"
      },
      "outputs": [],
      "source": [
        "PATH = \"./CrimesOnWomenData.csv\"\n",
        "\n",
        "df = pd.read_csv(PATH)"
      ]
    },
    {
      "cell_type": "markdown",
      "id": "1026e8c6-513a-41e3-b2f4-68aae18b8435",
      "metadata": {
        "id": "1026e8c6-513a-41e3-b2f4-68aae18b8435"
      },
      "source": [
        "1. За какие года представлен набор данных?"
      ]
    },
    {
      "cell_type": "code",
      "execution_count": null,
      "id": "e74655aa-b97c-42e5-b972-e0753ddc2331",
      "metadata": {
        "id": "e74655aa-b97c-42e5-b972-e0753ddc2331",
        "colab": {
          "base_uri": "https://localhost:8080/"
        },
        "outputId": "417a1516-fc1d-42a9-f272-7b07d44eac80"
      },
      "outputs": [
        {
          "output_type": "execute_result",
          "data": {
            "text/plain": [
              "(2001, 2021)"
            ]
          },
          "metadata": {},
          "execution_count": 5
        }
      ],
      "source": [
        "df[\"Year\"].min(), df[\"Year\"].max() #c 2001 до 2021"
      ]
    },
    {
      "cell_type": "markdown",
      "id": "eee028a5-9311-4a4f-b4ac-1fb75acfb4b3",
      "metadata": {
        "id": "eee028a5-9311-4a4f-b4ac-1fb75acfb4b3"
      },
      "source": [
        "2. Выявите район с самым высоким количеством убийств женщин"
      ]
    },
    {
      "cell_type": "code",
      "execution_count": null,
      "id": "ac0fb641-96d2-4e7c-88d5-636ce3b699d2",
      "metadata": {
        "id": "ac0fb641-96d2-4e7c-88d5-636ce3b699d2",
        "colab": {
          "base_uri": "https://localhost:8080/",
          "height": 35
        },
        "outputId": "942d8529-6ce9-4e7a-82b4-97713d11cdee"
      },
      "outputs": [
        {
          "output_type": "execute_result",
          "data": {
            "text/plain": [
              "'Uttar Pradesh'"
            ],
            "application/vnd.google.colaboratory.intrinsic+json": {
              "type": "string"
            }
          },
          "metadata": {},
          "execution_count": 12
        }
      ],
      "source": [
        "df.groupby('State')['DD'].sum().idxmax()"
      ]
    },
    {
      "cell_type": "markdown",
      "id": "cd7979ba-2fa8-4fd3-986d-26cee122da1f",
      "metadata": {
        "id": "cd7979ba-2fa8-4fd3-986d-26cee122da1f"
      },
      "source": [
        "3. Какое среднее число изнасилований женщин в индии наблюдалось в указанные года?"
      ]
    },
    {
      "cell_type": "code",
      "execution_count": 8,
      "id": "3915f77b-116c-482b-8644-2f5f11931af9",
      "metadata": {
        "id": "3915f77b-116c-482b-8644-2f5f11931af9",
        "colab": {
          "base_uri": "https://localhost:8080/",
          "height": 774
        },
        "outputId": "5677d231-f74d-457d-db18-bcbfbc65f7e9"
      },
      "outputs": [
        {
          "output_type": "execute_result",
          "data": {
            "text/plain": [
              "Year\n",
              "2001     461.588235\n",
              "2002     469.705882\n",
              "2003     451.676471\n",
              "2004     520.058824\n",
              "2005     520.617647\n",
              "2006     550.735294\n",
              "2007     592.323529\n",
              "2008     617.676471\n",
              "2009     615.529412\n",
              "2010     637.205882\n",
              "2011     672.388889\n",
              "2012     692.305556\n",
              "2013     936.305556\n",
              "2014    1020.416667\n",
              "2015     962.527778\n",
              "2016    1081.861111\n",
              "2017     904.416667\n",
              "2018     926.555556\n",
              "2019     889.805556\n",
              "2020     779.055556\n",
              "2021     879.916667\n",
              "Name: Rape, dtype: float64"
            ],
            "text/html": [
              "<div>\n",
              "<style scoped>\n",
              "    .dataframe tbody tr th:only-of-type {\n",
              "        vertical-align: middle;\n",
              "    }\n",
              "\n",
              "    .dataframe tbody tr th {\n",
              "        vertical-align: top;\n",
              "    }\n",
              "\n",
              "    .dataframe thead th {\n",
              "        text-align: right;\n",
              "    }\n",
              "</style>\n",
              "<table border=\"1\" class=\"dataframe\">\n",
              "  <thead>\n",
              "    <tr style=\"text-align: right;\">\n",
              "      <th></th>\n",
              "      <th>Rape</th>\n",
              "    </tr>\n",
              "    <tr>\n",
              "      <th>Year</th>\n",
              "      <th></th>\n",
              "    </tr>\n",
              "  </thead>\n",
              "  <tbody>\n",
              "    <tr>\n",
              "      <th>2001</th>\n",
              "      <td>461.588235</td>\n",
              "    </tr>\n",
              "    <tr>\n",
              "      <th>2002</th>\n",
              "      <td>469.705882</td>\n",
              "    </tr>\n",
              "    <tr>\n",
              "      <th>2003</th>\n",
              "      <td>451.676471</td>\n",
              "    </tr>\n",
              "    <tr>\n",
              "      <th>2004</th>\n",
              "      <td>520.058824</td>\n",
              "    </tr>\n",
              "    <tr>\n",
              "      <th>2005</th>\n",
              "      <td>520.617647</td>\n",
              "    </tr>\n",
              "    <tr>\n",
              "      <th>2006</th>\n",
              "      <td>550.735294</td>\n",
              "    </tr>\n",
              "    <tr>\n",
              "      <th>2007</th>\n",
              "      <td>592.323529</td>\n",
              "    </tr>\n",
              "    <tr>\n",
              "      <th>2008</th>\n",
              "      <td>617.676471</td>\n",
              "    </tr>\n",
              "    <tr>\n",
              "      <th>2009</th>\n",
              "      <td>615.529412</td>\n",
              "    </tr>\n",
              "    <tr>\n",
              "      <th>2010</th>\n",
              "      <td>637.205882</td>\n",
              "    </tr>\n",
              "    <tr>\n",
              "      <th>2011</th>\n",
              "      <td>672.388889</td>\n",
              "    </tr>\n",
              "    <tr>\n",
              "      <th>2012</th>\n",
              "      <td>692.305556</td>\n",
              "    </tr>\n",
              "    <tr>\n",
              "      <th>2013</th>\n",
              "      <td>936.305556</td>\n",
              "    </tr>\n",
              "    <tr>\n",
              "      <th>2014</th>\n",
              "      <td>1020.416667</td>\n",
              "    </tr>\n",
              "    <tr>\n",
              "      <th>2015</th>\n",
              "      <td>962.527778</td>\n",
              "    </tr>\n",
              "    <tr>\n",
              "      <th>2016</th>\n",
              "      <td>1081.861111</td>\n",
              "    </tr>\n",
              "    <tr>\n",
              "      <th>2017</th>\n",
              "      <td>904.416667</td>\n",
              "    </tr>\n",
              "    <tr>\n",
              "      <th>2018</th>\n",
              "      <td>926.555556</td>\n",
              "    </tr>\n",
              "    <tr>\n",
              "      <th>2019</th>\n",
              "      <td>889.805556</td>\n",
              "    </tr>\n",
              "    <tr>\n",
              "      <th>2020</th>\n",
              "      <td>779.055556</td>\n",
              "    </tr>\n",
              "    <tr>\n",
              "      <th>2021</th>\n",
              "      <td>879.916667</td>\n",
              "    </tr>\n",
              "  </tbody>\n",
              "</table>\n",
              "</div><br><label><b>dtype:</b> float64</label>"
            ]
          },
          "metadata": {},
          "execution_count": 8
        }
      ],
      "source": [
        "df.groupby('Year')['Rape'].sum().mean()\n",
        "#если по годам, то\n",
        "df.groupby(\"Year\")[\"Rape\"].mean()"
      ]
    },
    {
      "cell_type": "markdown",
      "id": "1b69ba67-61a8-4765-9795-cfab1a09e929",
      "metadata": {
        "id": "1b69ba67-61a8-4765-9795-cfab1a09e929"
      },
      "source": [
        "4. Выявите район с минимальным числом похищений за период 2001-2003 года"
      ]
    },
    {
      "cell_type": "code",
      "execution_count": null,
      "id": "1228d2e9-fc56-4240-95c6-c98a8b84c016",
      "metadata": {
        "id": "1228d2e9-fc56-4240-95c6-c98a8b84c016",
        "colab": {
          "base_uri": "https://localhost:8080/",
          "height": 35
        },
        "outputId": "7cbc7ac7-6a7d-46c7-9c92-b2bbd987a462"
      },
      "outputs": [
        {
          "output_type": "execute_result",
          "data": {
            "text/plain": [
              "'LAKSHADWEEP'"
            ],
            "application/vnd.google.colaboratory.intrinsic+json": {
              "type": "string"
            }
          },
          "metadata": {},
          "execution_count": 13
        }
      ],
      "source": [
        "df[(df['Year'] >= 2001) & (df['Year'] <= 2003)].groupby('State')['K&A'].sum().idxmin()"
      ]
    },
    {
      "cell_type": "markdown",
      "id": "5acec4fd-f740-49a8-a5d8-562d358239c9",
      "metadata": {
        "id": "5acec4fd-f740-49a8-a5d8-562d358239c9"
      },
      "source": [
        "5. Перечислите районы в которых наблюдались наиболее частые случае домашнего насилия за период с 2005 по 2012 года"
      ]
    },
    {
      "cell_type": "code",
      "execution_count": null,
      "id": "cac8daef-f4e8-4c8b-b7f4-d41a6adf35ed",
      "metadata": {
        "id": "cac8daef-f4e8-4c8b-b7f4-d41a6adf35ed",
        "colab": {
          "base_uri": "https://localhost:8080/",
          "height": 35
        },
        "outputId": "f0719723-3b63-4359-bd44-2fdcd9752fea"
      },
      "outputs": [
        {
          "output_type": "execute_result",
          "data": {
            "text/plain": [
              "'WEST BENGAL'"
            ],
            "application/vnd.google.colaboratory.intrinsic+json": {
              "type": "string"
            }
          },
          "metadata": {},
          "execution_count": 14
        }
      ],
      "source": [
        "df[(df['Year'] >= 2005) & (df['Year'] <= 2012)].groupby('State')['DV'].sum().idxmax()"
      ]
    },
    {
      "cell_type": "markdown",
      "id": "8d6171a9-0f75-4f3e-ac54-95d03d1f70b6",
      "metadata": {
        "id": "8d6171a9-0f75-4f3e-ac54-95d03d1f70b6"
      },
      "source": [
        "6. Выведите названия районов в порядке не возрастания случаев торговли женщинами за 2020 год"
      ]
    },
    {
      "cell_type": "code",
      "execution_count": null,
      "id": "c64d0892-2fb8-4304-966c-5cbb32b03c0a",
      "metadata": {
        "id": "c64d0892-2fb8-4304-966c-5cbb32b03c0a",
        "colab": {
          "base_uri": "https://localhost:8080/",
          "height": 1000
        },
        "outputId": "a98231bc-4e99-4462-ed1c-35b617dffb60"
      },
      "outputs": [
        {
          "output_type": "execute_result",
          "data": {
            "text/plain": [
              "686               Sikkim\n",
              "674            Jharkhand\n",
              "677       Madhya Pradesh\n",
              "684               Punjab\n",
              "691          Uttarakhand\n",
              "664       Andhra Pradesh\n",
              "670              Gujarat\n",
              "667                Bihar\n",
              "671              Haryana\n",
              "689              Tripura\n",
              "682             Nagaland\n",
              "666                Assam\n",
              "676               Kerala\n",
              "687           Tamil Nadu\n",
              "683               Odisha\n",
              "690        Uttar Pradesh\n",
              "675            Karnataka\n",
              "695           D&N Haveli\n",
              "668         Chhattisgarh\n",
              "673      Jammu & Kashmir\n",
              "681              Mizoram\n",
              "698          Lakshadweep\n",
              "697             Delhi UT\n",
              "696          Daman & Diu\n",
              "694           Chandigarh\n",
              "693        A & N Islands\n",
              "692          West Bengal\n",
              "678          Maharashtra\n",
              "665    Arunachal Pradesh\n",
              "688            Telangana\n",
              "679              Manipur\n",
              "669                  Goa\n",
              "685            Rajasthan\n",
              "672     Himachal Pradesh\n",
              "680            Meghalaya\n",
              "699           Puducherry\n",
              "Name: State, dtype: object"
            ],
            "text/html": [
              "<div>\n",
              "<style scoped>\n",
              "    .dataframe tbody tr th:only-of-type {\n",
              "        vertical-align: middle;\n",
              "    }\n",
              "\n",
              "    .dataframe tbody tr th {\n",
              "        vertical-align: top;\n",
              "    }\n",
              "\n",
              "    .dataframe thead th {\n",
              "        text-align: right;\n",
              "    }\n",
              "</style>\n",
              "<table border=\"1\" class=\"dataframe\">\n",
              "  <thead>\n",
              "    <tr style=\"text-align: right;\">\n",
              "      <th></th>\n",
              "      <th>State</th>\n",
              "    </tr>\n",
              "  </thead>\n",
              "  <tbody>\n",
              "    <tr>\n",
              "      <th>686</th>\n",
              "      <td>Sikkim</td>\n",
              "    </tr>\n",
              "    <tr>\n",
              "      <th>674</th>\n",
              "      <td>Jharkhand</td>\n",
              "    </tr>\n",
              "    <tr>\n",
              "      <th>677</th>\n",
              "      <td>Madhya Pradesh</td>\n",
              "    </tr>\n",
              "    <tr>\n",
              "      <th>684</th>\n",
              "      <td>Punjab</td>\n",
              "    </tr>\n",
              "    <tr>\n",
              "      <th>691</th>\n",
              "      <td>Uttarakhand</td>\n",
              "    </tr>\n",
              "    <tr>\n",
              "      <th>664</th>\n",
              "      <td>Andhra Pradesh</td>\n",
              "    </tr>\n",
              "    <tr>\n",
              "      <th>670</th>\n",
              "      <td>Gujarat</td>\n",
              "    </tr>\n",
              "    <tr>\n",
              "      <th>667</th>\n",
              "      <td>Bihar</td>\n",
              "    </tr>\n",
              "    <tr>\n",
              "      <th>671</th>\n",
              "      <td>Haryana</td>\n",
              "    </tr>\n",
              "    <tr>\n",
              "      <th>689</th>\n",
              "      <td>Tripura</td>\n",
              "    </tr>\n",
              "    <tr>\n",
              "      <th>682</th>\n",
              "      <td>Nagaland</td>\n",
              "    </tr>\n",
              "    <tr>\n",
              "      <th>666</th>\n",
              "      <td>Assam</td>\n",
              "    </tr>\n",
              "    <tr>\n",
              "      <th>676</th>\n",
              "      <td>Kerala</td>\n",
              "    </tr>\n",
              "    <tr>\n",
              "      <th>687</th>\n",
              "      <td>Tamil Nadu</td>\n",
              "    </tr>\n",
              "    <tr>\n",
              "      <th>683</th>\n",
              "      <td>Odisha</td>\n",
              "    </tr>\n",
              "    <tr>\n",
              "      <th>690</th>\n",
              "      <td>Uttar Pradesh</td>\n",
              "    </tr>\n",
              "    <tr>\n",
              "      <th>675</th>\n",
              "      <td>Karnataka</td>\n",
              "    </tr>\n",
              "    <tr>\n",
              "      <th>695</th>\n",
              "      <td>D&amp;N Haveli</td>\n",
              "    </tr>\n",
              "    <tr>\n",
              "      <th>668</th>\n",
              "      <td>Chhattisgarh</td>\n",
              "    </tr>\n",
              "    <tr>\n",
              "      <th>673</th>\n",
              "      <td>Jammu &amp; Kashmir</td>\n",
              "    </tr>\n",
              "    <tr>\n",
              "      <th>681</th>\n",
              "      <td>Mizoram</td>\n",
              "    </tr>\n",
              "    <tr>\n",
              "      <th>698</th>\n",
              "      <td>Lakshadweep</td>\n",
              "    </tr>\n",
              "    <tr>\n",
              "      <th>697</th>\n",
              "      <td>Delhi UT</td>\n",
              "    </tr>\n",
              "    <tr>\n",
              "      <th>696</th>\n",
              "      <td>Daman &amp; Diu</td>\n",
              "    </tr>\n",
              "    <tr>\n",
              "      <th>694</th>\n",
              "      <td>Chandigarh</td>\n",
              "    </tr>\n",
              "    <tr>\n",
              "      <th>693</th>\n",
              "      <td>A &amp; N Islands</td>\n",
              "    </tr>\n",
              "    <tr>\n",
              "      <th>692</th>\n",
              "      <td>West Bengal</td>\n",
              "    </tr>\n",
              "    <tr>\n",
              "      <th>678</th>\n",
              "      <td>Maharashtra</td>\n",
              "    </tr>\n",
              "    <tr>\n",
              "      <th>665</th>\n",
              "      <td>Arunachal Pradesh</td>\n",
              "    </tr>\n",
              "    <tr>\n",
              "      <th>688</th>\n",
              "      <td>Telangana</td>\n",
              "    </tr>\n",
              "    <tr>\n",
              "      <th>679</th>\n",
              "      <td>Manipur</td>\n",
              "    </tr>\n",
              "    <tr>\n",
              "      <th>669</th>\n",
              "      <td>Goa</td>\n",
              "    </tr>\n",
              "    <tr>\n",
              "      <th>685</th>\n",
              "      <td>Rajasthan</td>\n",
              "    </tr>\n",
              "    <tr>\n",
              "      <th>672</th>\n",
              "      <td>Himachal Pradesh</td>\n",
              "    </tr>\n",
              "    <tr>\n",
              "      <th>680</th>\n",
              "      <td>Meghalaya</td>\n",
              "    </tr>\n",
              "    <tr>\n",
              "      <th>699</th>\n",
              "      <td>Puducherry</td>\n",
              "    </tr>\n",
              "  </tbody>\n",
              "</table>\n",
              "</div><br><label><b>dtype:</b> object</label>"
            ]
          },
          "metadata": {},
          "execution_count": 16
        }
      ],
      "source": [
        "df[df['Year'] == 2020].sort_values(by='WT', ascending=False)['State']"
      ]
    },
    {
      "cell_type": "markdown",
      "id": "a24c2f59-eeaf-47fd-8224-1023d1a8edeb",
      "metadata": {
        "id": "a24c2f59-eeaf-47fd-8224-1023d1a8edeb"
      },
      "source": [
        "Перейдем к следующему набору данных.\n",
        "\n",
        "Файл: `CustomerPurchasingBehaviors.csv`\n",
        "\n",
        "Этот набор данных содержит информацию о профилях клиентов и их покупательском поведении. Данные содержат столбцы, содержащие идентификатор пользователя, возраст, годовой доход, сумму покупки, показатель лояльности (в разбивке по классам), регион и частоту покупок. Он предназначен для анализа тенденций сегментации клиентов и лояльности и может быть использован для различных задач машинного обучения и анализа данных, связанных с поведением клиентов и исследованиями рынка.\n",
        "\n",
        "```\n",
        "user_id - ID клиента\n",
        "age - Возраст\n",
        "annual_income - Годовой доход клиента (в долларах США).\n",
        "purchase_amount - Общая сумма покупок, совершенных клиентом (в долларах США).\n",
        "loyalty_score - Показатель лояльности клиента (значение от 0 до 100).\n",
        "region - Регион, в котором проживает клиент (Север, Юг, Восток, Запад).\n",
        "purchase_frequency - Частота покупок клиентов (количество раз в год).\n",
        "```"
      ]
    },
    {
      "cell_type": "code",
      "execution_count": null,
      "id": "7407fc92-f656-44b4-bc3a-b86d0a8664ea",
      "metadata": {
        "id": "7407fc92-f656-44b4-bc3a-b86d0a8664ea"
      },
      "outputs": [],
      "source": [
        "PATH = \"./CustomerPurchasingBehaviors.csv\"\n",
        "\n",
        "df = pd.read_csv(PATH)\n",
        "\n",
        "df['loyalty_score'] = df['loyalty_score']*10 #поправим косячные данные"
      ]
    },
    {
      "cell_type": "markdown",
      "id": "1d447d6e-cfde-411c-9078-cd8f41f02d8b",
      "metadata": {
        "id": "1d447d6e-cfde-411c-9078-cd8f41f02d8b"
      },
      "source": [
        "8. Какой средний годовой доход у клиентов с уровнем лояльности больше 50 живущих на севере"
      ]
    },
    {
      "cell_type": "code",
      "execution_count": null,
      "id": "b30df6b1-5eca-43da-a115-1c1a3cbfd899",
      "metadata": {
        "id": "b30df6b1-5eca-43da-a115-1c1a3cbfd899",
        "colab": {
          "base_uri": "https://localhost:8080/"
        },
        "outputId": "797d365d-c89d-49fc-d571-572549b624f1"
      },
      "outputs": [
        {
          "output_type": "execute_result",
          "data": {
            "text/plain": [
              "60146.34146341463"
            ]
          },
          "metadata": {},
          "execution_count": 7
        }
      ],
      "source": [
        "df[(df['region'] == 'North') & (df['loyalty_score'] > 50)]['annual_income'].mean()\n"
      ]
    },
    {
      "cell_type": "markdown",
      "id": "c41d5d99-65f7-4d17-82ae-971ec959f327",
      "metadata": {
        "id": "c41d5d99-65f7-4d17-82ae-971ec959f327"
      },
      "source": [
        "9. Выведите 25 и 75 перцентили уровня лоальности клиентов живущих на западе с частотой покупок более 20 раз в год"
      ]
    },
    {
      "cell_type": "code",
      "execution_count": null,
      "id": "275bcc04-659b-4521-a9e5-200a5f4ef674",
      "metadata": {
        "id": "275bcc04-659b-4521-a9e5-200a5f4ef674",
        "colab": {
          "base_uri": "https://localhost:8080/",
          "height": 147
        },
        "outputId": "1ccaaa0f-794b-48e1-94ae-d0fc96ddd8b9"
      },
      "outputs": [
        {
          "output_type": "execute_result",
          "data": {
            "text/plain": [
              "0.25    85.0\n",
              "0.75    92.0\n",
              "Name: loyalty_score, dtype: float64"
            ],
            "text/html": [
              "<div>\n",
              "<style scoped>\n",
              "    .dataframe tbody tr th:only-of-type {\n",
              "        vertical-align: middle;\n",
              "    }\n",
              "\n",
              "    .dataframe tbody tr th {\n",
              "        vertical-align: top;\n",
              "    }\n",
              "\n",
              "    .dataframe thead th {\n",
              "        text-align: right;\n",
              "    }\n",
              "</style>\n",
              "<table border=\"1\" class=\"dataframe\">\n",
              "  <thead>\n",
              "    <tr style=\"text-align: right;\">\n",
              "      <th></th>\n",
              "      <th>loyalty_score</th>\n",
              "    </tr>\n",
              "  </thead>\n",
              "  <tbody>\n",
              "    <tr>\n",
              "      <th>0.25</th>\n",
              "      <td>85.0</td>\n",
              "    </tr>\n",
              "    <tr>\n",
              "      <th>0.75</th>\n",
              "      <td>92.0</td>\n",
              "    </tr>\n",
              "  </tbody>\n",
              "</table>\n",
              "</div><br><label><b>dtype:</b> float64</label>"
            ]
          },
          "metadata": {},
          "execution_count": 16
        }
      ],
      "source": [
        "df[(df['region'] == 'West') & (df['purchase_frequency'] > 20)]['loyalty_score'].quantile([0.25, 0.75])\n"
      ]
    },
    {
      "cell_type": "markdown",
      "id": "a1f7a5c0-259c-4837-a5d1-2dfc05e7c13e",
      "metadata": {
        "id": "a1f7a5c0-259c-4837-a5d1-2dfc05e7c13e"
      },
      "source": [
        "10. Отличается ли медианный возраст клиентов с уровнем лояльности более 70 и менее 10 для жителей Востока и Севера."
      ]
    },
    {
      "cell_type": "code",
      "execution_count": null,
      "id": "a2da4d57-edb4-4179-8bee-3deda6cd00e6",
      "metadata": {
        "id": "a2da4d57-edb4-4179-8bee-3deda6cd00e6",
        "colab": {
          "base_uri": "https://localhost:8080/"
        },
        "outputId": "3aac6696-1970-4bc7-98b6-d81584a27d26"
      },
      "outputs": [
        {
          "output_type": "execute_result",
          "data": {
            "text/plain": [
              "(46.0, nan)"
            ]
          },
          "metadata": {},
          "execution_count": 23
        }
      ],
      "source": [
        "df[(df['region'].isin(['East', 'North'])) & (df['loyalty_score'] > 70)]['age'].median(), df[(df['region'].isin(['East', 'North'])) & (df['loyalty_score'] < 10)]['age'].median()\n",
        "#минимальное лоялти 30, так что"
      ]
    },
    {
      "cell_type": "markdown",
      "id": "deb4ca3a-3d8a-4205-bee9-d26fd28638b2",
      "metadata": {
        "id": "deb4ca3a-3d8a-4205-bee9-d26fd28638b2"
      },
      "source": [
        "### 3. Визуализация"
      ]
    },
    {
      "cell_type": "markdown",
      "id": "f8941ce1-cbf2-465a-b013-1b84aeb999ef",
      "metadata": {
        "id": "f8941ce1-cbf2-465a-b013-1b84aeb999ef"
      },
      "source": [
        "Используя библиотеки matplotlib/sns/plotly/pandas и набор данных представленный ранее визуализируйте"
      ]
    },
    {
      "cell_type": "markdown",
      "id": "5e98ce6f-8d02-4120-ad85-241494c038d6",
      "metadata": {
        "id": "5e98ce6f-8d02-4120-ad85-241494c038d6"
      },
      "source": [
        "1. Постройте диаграмму которая отражает средний уровень лояльности во всех регионах"
      ]
    },
    {
      "cell_type": "code",
      "execution_count": null,
      "id": "664666b2-17b7-49dd-a3bd-c4be9361755d",
      "metadata": {
        "id": "664666b2-17b7-49dd-a3bd-c4be9361755d",
        "colab": {
          "base_uri": "https://localhost:8080/",
          "height": 472
        },
        "outputId": "b3984ce9-4818-45e6-9eb3-2d32183c4d9e"
      },
      "outputs": [
        {
          "output_type": "display_data",
          "data": {
            "text/plain": [
              "<Figure size 640x480 with 1 Axes>"
            ],
            "image/png": "[encoded data removed]"
          },
          "metadata": {}
        }
      ],
      "source": [
        "import matplotlib.pyplot as plt\n",
        "import seaborn as sns\n",
        "\n",
        "mean_loyalty = df.groupby('region')['loyalty_score'].mean()\n",
        "\n",
        "sns.barplot(x=mean_loyalty.index, y=mean_loyalty.values)\n",
        "plt.title(\"Средний уровень лояльности в регионах\")\n",
        "plt.xlabel(\"Регион\")\n",
        "plt.ylabel(\"Средний уровень лояльности\")\n",
        "plt.show()"
      ]
    },
    {
      "cell_type": "markdown",
      "id": "4c7500bb-36ca-4ea7-bc3c-4f15afbd4c41",
      "metadata": {
        "id": "4c7500bb-36ca-4ea7-bc3c-4f15afbd4c41"
      },
      "source": [
        "2. Постройте гистограмму распределения зарплат клиентов на Севере."
      ]
    },
    {
      "cell_type": "code",
      "execution_count": null,
      "id": "7325e7f8-5f00-4a82-8184-7064505f7ccd",
      "metadata": {
        "id": "7325e7f8-5f00-4a82-8184-7064505f7ccd",
        "colab": {
          "base_uri": "https://localhost:8080/",
          "height": 472
        },
        "outputId": "a8de61f1-d6ca-457d-d29f-1f50427a598e"
      },
      "outputs": [
        {
          "output_type": "display_data",
          "data": {
            "text/plain": [
              "<Figure size 640x480 with 1 Axes>"
            ],
            "image/png": "[encoded data removed]"
          },
          "metadata": {}
        }
      ],
      "source": [
        "north_income = df[df['region'] == 'North']['annual_income']\n",
        "\n",
        "plt.hist(north_income, bins=20, edgecolor='black')\n",
        "plt.title(\"Распределение зарплат на Севере\")\n",
        "plt.xlabel(\"Годовой доход\")\n",
        "plt.ylabel(\"Число клиентов\")\n",
        "plt.show()"
      ]
    },
    {
      "cell_type": "markdown",
      "id": "efdd0669-36e0-4708-ac6b-ad0d92881113",
      "metadata": {
        "id": "efdd0669-36e0-4708-ac6b-ad0d92881113"
      },
      "source": [
        "3. Сравните уровни зарплат людей на севере и юге."
      ]
    },
    {
      "cell_type": "code",
      "execution_count": null,
      "id": "7504a170-04a1-4b86-924d-8d46be16fd3c",
      "metadata": {
        "id": "7504a170-04a1-4b86-924d-8d46be16fd3c",
        "colab": {
          "base_uri": "https://localhost:8080/",
          "height": 472
        },
        "outputId": "29136d9d-c1b4-4902-828c-d41fbf4193a5"
      },
      "outputs": [
        {
          "output_type": "display_data",
          "data": {
            "text/plain": [
              "<Figure size 640x480 with 1 Axes>"
            ],
            "image/png": "[encoded data removed]"
          },
          "metadata": {}
        }
      ],
      "source": [
        "\n",
        "north_south_income = df[df['region'].isin(['North', 'South'])]\n",
        "\n",
        "sns.boxplot(x='region', y='annual_income', data=north_south_income)\n",
        "plt.title(\"Сравнение зарплат на Севере и Юге\")\n",
        "plt.xlabel(\"Регион\")\n",
        "plt.ylabel(\"Годовой доход\")\n",
        "plt.show()\n"
      ]
    },
    {
      "cell_type": "markdown",
      "id": "b5839a48-e992-45fc-81ee-59cb5aa79dda",
      "metadata": {
        "id": "b5839a48-e992-45fc-81ee-59cb5aa79dda"
      },
      "source": [
        "4. Постройте box plot отображающий распределение уровня лояльности для людей до 20 лет, от 20 до 40, от 40 до 60 и старше 60 лет"
      ]
    },
    {
      "cell_type": "code",
      "execution_count": null,
      "id": "1a942378-45ea-47a0-bac9-488960491613",
      "metadata": {
        "id": "1a942378-45ea-47a0-bac9-488960491613",
        "colab": {
          "base_uri": "https://localhost:8080/",
          "height": 472
        },
        "outputId": "cabf0ed5-3ef5-4c0b-d8ac-6a4d4c64f022"
      },
      "outputs": [
        {
          "output_type": "display_data",
          "data": {
            "text/plain": [
              "<Figure size 640x480 with 1 Axes>"
            ],
            "image/png": "[encoded data removed]"
          },
          "metadata": {}
        }
      ],
      "source": [
        "df['age_group'] = pd.cut(df['age'], bins=[0, 20, 40, 60, 100], labels=['до 20', 'от 20 до 40', 'от 40 до 60', 'старше 60'])\n",
        "\n",
        "sns.boxplot(x='age_group', y='loyalty_score', data=df)\n",
        "plt.title(\"Распределение уровня лояльности по возрастным группам\")\n",
        "plt.xlabel(\"Возрастная группа\")\n",
        "plt.ylabel(\"Уровень лояльности\")\n",
        "plt.show()\n"
      ]
    },
    {
      "cell_type": "markdown",
      "id": "d4c97bef-bb64-43cc-a89f-7510174492ec",
      "metadata": {
        "id": "d4c97bef-bb64-43cc-a89f-7510174492ec"
      },
      "source": [
        "5. Визуализируйте зависимость частоты покупок от заработка"
      ]
    },
    {
      "cell_type": "code",
      "execution_count": null,
      "id": "a1f444af-3544-432c-8dc6-bb74d4cff272",
      "metadata": {
        "id": "a1f444af-3544-432c-8dc6-bb74d4cff272",
        "colab": {
          "base_uri": "https://localhost:8080/",
          "height": 472
        },
        "outputId": "79d544ac-97bb-4357-c9da-6c684d4188eb"
      },
      "outputs": [
        {
          "output_type": "display_data",
          "data": {
            "text/plain": [
              "<Figure size 640x480 with 1 Axes>"
            ],
            "image/png": "[encoded data removed]"
          },
          "metadata": {}
        }
      ],
      "source": [
        "sns.scatterplot(x='annual_income', y='purchase_frequency', data=df)\n",
        "plt.title(\"Зависимость частоты покупок от заработка\")\n",
        "plt.xlabel(\"Годовой доход\")\n",
        "plt.ylabel(\"Частота покупок\")\n",
        "plt.show()\n"
      ]
    },
    {
      "cell_type": "markdown",
      "id": "a2ab764c-8ac1-4c5a-93ad-8168b0eb4934",
      "metadata": {
        "id": "a2ab764c-8ac1-4c5a-93ad-8168b0eb4934"
      },
      "source": [
        "6. Визуализируйте как зависит сумма покупок от зарплаты клиента"
      ]
    },
    {
      "cell_type": "code",
      "execution_count": null,
      "id": "6449e306-fb6c-46d4-bcd8-b6b76fbf69d2",
      "metadata": {
        "id": "6449e306-fb6c-46d4-bcd8-b6b76fbf69d2",
        "colab": {
          "base_uri": "https://localhost:8080/",
          "height": 472
        },
        "outputId": "7ac14234-ee56-4790-eeb0-c3166c4f9414"
      },
      "outputs": [
        {
          "output_type": "display_data",
          "data": {
            "text/plain": [
              "<Figure size 640x480 with 1 Axes>"
            ],
            "image/png": "[encoded data removed]"
          },
          "metadata": {}
        }
      ],
      "source": [
        "sns.scatterplot(x='annual_income', y='purchase_amount', data=df)\n",
        "plt.title(\"Зависимость суммы покупок от заработка клиента\")\n",
        "plt.xlabel(\"Годовой доход\")\n",
        "plt.ylabel(\"Сумма покупок\")\n",
        "plt.show()\n"
      ]
    },
    {
      "cell_type": "markdown",
      "id": "16afdeec-8c90-4ed1-a599-e0b1343bbf5c",
      "metadata": {
        "id": "16afdeec-8c90-4ed1-a599-e0b1343bbf5c"
      },
      "source": [
        "7. Придумайте как визуализировать зависимость между частотой покупок, суммой покупок и скором лояльности *\n",
        "\n",
        "\\* Задание на доп. балл"
      ]
    },
    {
      "cell_type": "code",
      "execution_count": null,
      "id": "e10d0cc7-a1ca-4204-a875-b1660e44618d",
      "metadata": {
        "id": "e10d0cc7-a1ca-4204-a875-b1660e44618d",
        "colab": {
          "base_uri": "https://localhost:8080/",
          "height": 564
        },
        "outputId": "5680b37e-df53-400a-a42e-49ca6ead7254"
      },
      "outputs": [
        {
          "output_type": "display_data",
          "data": {
            "text/plain": [
              "<Figure size 1000x600 with 2 Axes>"
            ],
            "image/png": "[encoded data removed]"
          },
          "metadata": {}
        }
      ],
      "source": [
        "#Можно было бы сделать 3D, но его тяжко воспринимать, поэтому пусть ещё одно измерение будет цветом и размером\n",
        "\n",
        "x = df['purchase_frequency']\n",
        "y = df['purchase_amount']\n",
        "sizes = df['loyalty_score'] * 10\n",
        "\n",
        "plt.figure(figsize=(10,6))\n",
        "plt.scatter(x, y, s=sizes, alpha=0.5, c=sizes, cmap='coolwarm')\n",
        "\n",
        "plt.xlabel('Частота покупок')\n",
        "plt.ylabel('Сумма покупок')\n",
        "plt.title('Зависимость между частотой покупок, суммой покупок и уровнем лояльности')\n",
        "\n",
        "plt.colorbar(label=\"Уровень лояльности\")\n",
        "plt.show()\n"
      ]
    }
  ],
  "metadata": {
    "kernelspec": {
      "display_name": "Python 3 (ipykernel)",
      "language": "python",
      "name": "python3"
    },
    "language_info": {
      "codemirror_mode": {
        "name": "ipython",
        "version": 3
      },
      "file_extension": ".py",
      "mimetype": "text/x-python",
      "name": "python",
      "nbconvert_exporter": "python",
      "pygments_lexer": "ipython3",
      "version": "3.11.7"
    },
    "colab": {
      "provenance": []
    }
  },
  "nbformat": 4,
  "nbformat_minor": 5
}